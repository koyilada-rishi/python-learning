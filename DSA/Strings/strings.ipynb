{
 "cells": [
  {
   "cell_type": "markdown",
   "metadata": {
    "vscode": {
     "languageId": "raw"
    }
   },
   "source": [
    "# All strings related Data Structures"
   ]
  },
  {
   "cell_type": "markdown",
   "metadata": {},
   "source": [
    "### Eacape sequences and RAW strings"
   ]
  },
  {
   "cell_type": "code",
   "execution_count": null,
   "metadata": {},
   "outputs": [],
   "source": [
    "s = 'Welcome to Rishi\\'s DSA preps'         # ingnore ' apostrophy as a quote by adding \\ (forward slash) for it\n",
    "print(s)\n",
    "s1 = \"/Users/rishi/workspace-auto/Python-DSA-G4G/z-SRE-Python/python-learning/DSA\" \n",
    "s2 = r\"c:\\username\\test\"    # by adding r before the statment will ignore all \\ forward slashes and taken as within the statement\n",
    "s3 = \" I am\\trishi\"    # \\t used to give a tab space between \"I am\" and \"Rishi\" \n",
    "s4 = \" hi iam \\r rishi \"  #  \\r used for ignore or making a backspace that means will ignore the previous data to \\r\n",
    "print(s2)\n",
    "print(s1)\n",
    "print(s3)\n",
    "print(s4)\n",
    "################### Check Output for better understanding #########################################"
   ]
  },
  {
   "cell_type": "markdown",
   "metadata": {},
   "source": [
    "### Formated Strings in Python   Over all new way of \n",
    "##### f_string format is the best one to pratice "
   ]
  },
  {
   "cell_type": "code",
   "execution_count": null,
   "metadata": {},
   "outputs": [],
   "source": [
    "name = \"ABC\"\n",
    "course = \"Python Course\"\n",
    "c_type = \"welcome %s to the %s\"%(name,course)  # this c language type of formating\n",
    "old_format_func = \"welcome {0} to the {1}\".format(name,course)  #this is old ypue of using formate function\n",
    "f_string = f\"welcome {name} to the {course}\" # using f -string this is from latest update of python 3.xx\n",
    "\n",
    "print(\" I am from c_type\\n\", c_type)\n",
    "print(\" I am from old_format_func\\n\",old_format_func)\n",
    "print(\" I am from f_string\\n\",f_string)\n",
    "\n",
    "##### We can use f_tring with expresion and some operations ############\n",
    "\n",
    "a = 10\n",
    "b = 20\n",
    "print(f\"sum of {a} and {b} is {a+b}\")\n",
    "print(f\"product of {a} and {b} is {a*b}\")\n"
   ]
  },
  {
   "cell_type": "markdown",
   "metadata": {},
   "source": [
    "### String Operations - I\n",
    "##### check if sub strings exists or not    ---P1   using \" in \""
   ]
  },
  {
   "cell_type": "code",
   "execution_count": null,
   "metadata": {},
   "outputs": [],
   "source": [
    "s1 = \"geeksforgeeks\"\n",
    "s2 = \"geeks\"\n",
    "print(s1 in s2)\n",
    "print (s2  in s1)\n",
    "print(\"for\" in s1)"
   ]
  },
  {
   "cell_type": "markdown",
   "metadata": {},
   "source": [
    "##### Concatination of strings  ---P2"
   ]
  },
  {
   "cell_type": "code",
   "execution_count": null,
   "metadata": {},
   "outputs": [],
   "source": [
    "s1 = \"geeks\"\n",
    "s2 = \"forgeeks\"\n",
    "s3 = s1 + s2\n",
    "s4 = \" welcome to\" + s1 + s2\n",
    "print(s3)\n",
    "print(s4)"
   ]
  },
  {
   "cell_type": "markdown",
   "metadata": {},
   "source": [
    "##### Position of a sub string  ----P3"
   ]
  },
  {
   "cell_type": "code",
   "execution_count": null,
   "metadata": {},
   "outputs": [],
   "source": [
    "s1 = \"geeksforgeeksforgeeksforgeeksforgeeks\"\n",
    "s2= \"geeks\"\n",
    "# s2 = \"werertge\"\n",
    "print(s1.index(s2))\n",
    "print(s1.rindex(s2))\n",
    "print(s1.index(s2,0,len(s1)))"
   ]
  },
  {
   "cell_type": "markdown",
   "metadata": {},
   "source": [
    "### String Operations - II\n",
    "##### Some More Methods ( Len, Is, Lower and Upper) "
   ]
  },
  {
   "cell_type": "code",
   "execution_count": null,
   "metadata": {},
   "outputs": [],
   "source": [
    "s1 = \"geeksforgeeks \"\n",
    "print(len(s1))\n",
    "s2 = s1.upper()\n",
    "print(s2)\n",
    "s3 = s2.lower()\n",
    "print(s3)\n",
    "print(s3.islower())\n",
    "print(s2.isupper())"
   ]
  },
  {
   "cell_type": "markdown",
   "metadata": {},
   "source": [
    "##### Starts with, Ends with operations"
   ]
  },
  {
   "cell_type": "code",
   "execution_count": null,
   "metadata": {},
   "outputs": [],
   "source": [
    "s = \"geeksforgeeks g Python course\"\n",
    "print(s.startswith(\"geeks\"))\n",
    "print(s.endswith(\"course\"))\n",
    "print(s.startswith(\"geeks\", 14))\n",
    "print(s.startswith(\"geeks\",8,len(s)))"
   ]
  },
  {
   "cell_type": "markdown",
   "metadata": {},
   "source": []
  },
  {
   "cell_type": "code",
   "execution_count": null,
   "metadata": {},
   "outputs": [],
   "source": [
    "s = \"geeks for geeks\"\n",
    "sa = \"geeks, for, geeks\"\n",
    "s1 = s.split()\n",
    "print(s1)\n",
    "s2 = sa.split(\",\")\n",
    "print(s2)\n",
    "s3 = sa.splitlines()\n",
    "print(s3)\n",
    "s4 = sa.split(\",\")\n",
    "l = \",\".join(s1)\n",
    "print(l)\n",
    "print(\" \".join(s1))\n",
    "print(s4)\n",
    "print(\"\".join(s4))\n"
   ]
  },
  {
   "cell_type": "code",
   "execution_count": null,
   "metadata": {},
   "outputs": [],
   "source": [
    "l = \"-----rishi-----\"\n",
    "print(l.strip(\"-\"))\n",
    "print(l.lstrip(\"-\"))\n",
    "print(l.rstrip(\"-\"))"
   ]
  },
  {
   "cell_type": "code",
   "execution_count": null,
   "metadata": {},
   "outputs": [],
   "source": [
    "s1 = \" geeks for geeks\"\n",
    "s2 = \" geeks\"\n",
    "print(s1.find(s2))\n",
    "print(s2.find(\"gfg\"))\n",
    "n = len(s1)\n",
    "print(s1.find(s2,1,n))\n"
   ]
  },
  {
   "cell_type": "code",
   "execution_count": null,
   "metadata": {},
   "outputs": [],
   "source": [
    "s = \"i am rishi\"\n",
    "s1 = \"rishi\"\n",
    "print(s1.capitalize())\n",
    "print(s.title())\n",
    "\n"
   ]
  },
  {
   "cell_type": "markdown",
   "metadata": {},
   "source": [
    "##### String slicing  using reversing a string example\n",
    "print(x:y:z)  that neans print x to y by jumping with z"
   ]
  },
  {
   "cell_type": "code",
   "execution_count": null,
   "metadata": {},
   "outputs": [],
   "source": [
    "s = \"geeks\"\n",
    "print(s[0:len(s):1])                                 # output geeks\n",
    "\n",
    "### reverse a string\n",
    "rev = \"\"\n",
    "for i in s:\n",
    "    rev = i + rev\n",
    "print(rev)                                           # output skeeg\n",
    "\n",
    "#### easy and simple way of reversing string\n",
    "\n",
    "print(s[::-1])                                       # output skeeg"
   ]
  },
  {
   "cell_type": "markdown",
   "metadata": {},
   "source": [
    "##### Check for rotation of a string example\n",
    "\n",
    "s1 = \"ABCD\" ; s2 = \"CDAB\"\n",
    "rotating s1\n",
    "1st time = \"BCDA\"\n",
    "2nd time = \"CDAB\"\n",
    "so s2 == s1 then output should be \"YES\"\n",
    "\n",
    "##### Below is Naive approach cause while loop O(n) X s1[1::1] loop O(n) i.e O(n) X O(n) = O(n)^2"
   ]
  },
  {
   "cell_type": "code",
   "execution_count": null,
   "metadata": {},
   "outputs": [],
   "source": [
    "# s1 = \"ABAAA\"\n",
    "# s2 = \"BAAAA\"\n",
    "s1 = \"ABAB\"\n",
    "s2 = \"ABBA\"\n",
    "############  Find s2 is in rotating of s1 or not ####################################\n",
    "if len(s1) != len(s2):\n",
    "    print(\" wrong input\")\n",
    "else:\n",
    "    n = len(s1)\n",
    "    i = 0\n",
    "    while i < n+1:\n",
    "        if s1 == s2:\n",
    "            print(\"yes\")\n",
    "            break\n",
    "        elif i == n :\n",
    "            print(\"No\")\n",
    "            break\n",
    "        else:\n",
    "            s1 = s1[1::1] + s1[0]\n",
    "            i = i + 1"
   ]
  },
  {
   "cell_type": "markdown",
   "metadata": {},
   "source": [
    "##### Now lets make its time complexity to O(n) "
   ]
  },
  {
   "cell_type": "code",
   "execution_count": null,
   "metadata": {},
   "outputs": [],
   "source": [
    "s1 = \"ABAAA\"\n",
    "s2 = \"BAAAA\"\n",
    "# s1 = \"ABAB\"\n",
    "# s2 = \"ABBA\"\n",
    "############  Find s2 is in rotating of s1 or not ####################################\n",
    "def s2ins1(s1,s2):\n",
    "    if len(s1) != len(s2):\n",
    "        return \n",
    "    s1 = s1 + s1\n",
    "    return s1.find(s2) != -1\n",
    "    print(s1)\n",
    "if not s2ins1(s1,s2):\n",
    "    print(\"No\")\n",
    "else:\n",
    "    print(\"Yes\")\n",
    "    \n",
    "    \n",
    "#################### Another O(n) approach ###########################\n",
    "\n",
    "\n",
    "def S1inS2(s1,s2):\n",
    "    if len(s1) != len(s2):\n",
    "        return \"Worng Input\"\n",
    "    return \"yes\" if  s2 in (s1 + s1) else \"No\"\n",
    "\n",
    "print(f\"i ma from S1inS2 def \",S1inS2(s1,s2))"
   ]
  },
  {
   "cell_type": "code",
   "execution_count": null,
   "metadata": {},
   "outputs": [],
   "source": [
    "s1 = \"10022001\"\n",
    "n = len(s1)\n",
    "def pal_naive(s1):\n",
    "    if s2 == s1[::-1]:\n",
    "        print(\"Palindrome\")\n",
    "    else:\n",
    "        print(\"No\")\n",
    "pal_naive(s1)\n",
    "\n",
    "#######################   O(n) Approach ##############################################\n",
    "\n",
    "def pal_best(s1,n):\n",
    "    for i in range(n//2):\n",
    "        if s1[i] != s1[n-i-1]:\n",
    "            print(\"No\")\n",
    "            break\n",
    "    else:\n",
    "        print(\"Palindrome\")\n",
    "pal_best(s1,n)\n"
   ]
  },
  {
   "cell_type": "code",
   "execution_count": null,
   "metadata": {},
   "outputs": [],
   "source": [
    "s1 = \"rishi\"\n",
    "s1 = s1[1::1]+ s1[0]\n",
    "print(s1)"
   ]
  },
  {
   "cell_type": "markdown",
   "metadata": {},
   "source": [
    "##### Check if a String in Sequence of Other"
   ]
  },
  {
   "cell_type": "code",
   "execution_count": null,
   "metadata": {},
   "outputs": [],
   "source": [
    "# s1 = \"ABCD\"\n",
    "# s2  = \"AD\"\n",
    "s1 = \"GEEKSFORGEEKS\"\n",
    "s2 = \"ROF\"\n",
    "def seq_string(s1,s2):\n",
    "        i,j= 0,0\n",
    "        while i < len(s1) and j < len(s2):\n",
    "            if s1[i] == s2[j]:\n",
    "                j = j + 1\n",
    "            i = i + 1\n",
    "\n",
    "        return True if j == len(s2) else False\n",
    "seq_string(s1,s2)"
   ]
  },
  {
   "cell_type": "markdown",
   "metadata": {},
   "source": [
    "##### Check if Anagram or not "
   ]
  },
  {
   "cell_type": "code",
   "execution_count": null,
   "metadata": {},
   "outputs": [],
   "source": [
    "# s1 = \"listen\"\n",
    "# s2 = \"silent\"\n",
    "\n",
    "s1 = \"abba\"\n",
    "s2 = \"baba\"\n",
    "def anagram_string(s1,s2):\n",
    "    if len(s2) != len(s1):\n",
    "        return False\n",
    "    else:\n",
    "        count = []\n",
    "        i , j = 0 , 0\n",
    "        while j < len(s2):\n",
    "            if i == len(s1) and len(count) == 0:\n",
    "                break\n",
    "            elif i == len(s1):\n",
    "                i = 0\n",
    "            elif len(count) == len(s2):\n",
    "                break\n",
    "            elif i in count:\n",
    "                i = i + 1 \n",
    "            elif s1[i] == s2[j]:\n",
    "                count.append(i)\n",
    "                i = 0\n",
    "                j = j + 1\n",
    "            else:\n",
    "                i = i + 1\n",
    "        return True if j == len(s2) else False\n",
    "\n",
    "\n",
    "# Test cases\n",
    "print(anagram_string(\"listen\", \"silent\"))  # ✅ True\n",
    "print(anagram_string(\"abaa\", \"aaab\"))      # ✅ True\n",
    "print(anagram_string(\"test\", \"sett\"))      # ✅ True\n",
    "print(anagram_string(\"hello\", \"world\"))    # ❌ False\n",
    "print(anagram_string(\"abc\", \"abcd\"))       # ❌ False\n",
    "print(anagram_string(\"race\", \"care\"))      # ✅ True\n",
    "print(anagram_string(\"aabb\", \"abab\")) \n",
    "# print(anagram_string(\"aabb\", \"abbb\"))\n"
   ]
  },
  {
   "cell_type": "code",
   "execution_count": null,
   "metadata": {},
   "outputs": [],
   "source": [
    "def anagram_string(s1,s2):\n",
    "    if len(s2) != len(s1):\n",
    "        return False\n",
    "    else:\n",
    "        return True if sorted(s1) == sorted(s2) else False\n",
    "\n",
    "# Test cases\n",
    "print(anagram_string(\"listen\", \"silent\"))  # ✅ True\n",
    "print(anagram_string(\"abaa\", \"aaab\"))      # ✅ True\n",
    "print(anagram_string(\"test\", \"sett\"))      # ✅ True\n",
    "print(anagram_string(\"hello\", \"world\"))    # ❌ False\n",
    "print(anagram_string(\"abc\", \"abcd\"))       # ❌ False\n",
    "print(anagram_string(\"race\", \"care\"))      # ✅ True\n",
    "print(anagram_string(\"aabb\", \"abab\"))      # ✅ True\n",
    "print(anagram_string(\"aabb\", \"abbb\"))      # ❌ False  "
   ]
  },
  {
   "cell_type": "code",
   "execution_count": null,
   "metadata": {},
   "outputs": [],
   "source": [
    "count = [0] *2\n",
    "print(count)"
   ]
  },
  {
   "cell_type": "code",
   "execution_count": 3,
   "metadata": {},
   "outputs": [
    {
     "name": "stdout",
     "output_type": "stream",
     "text": [
      " iam with  n  2\n",
      "15\n",
      "18\n",
      "16\n"
     ]
    }
   ],
   "source": [
    "l = [5,9,1,8,7]\n",
    "n = len(l) - 3\n",
    "print(\" iam with  n \",n)\n",
    "for i in range(0,n+1,1):\n",
    "    print(sum(l[i:3+i]))\n"
   ]
  },
  {
   "cell_type": "code",
   "execution_count": 2,
   "metadata": {},
   "outputs": [
    {
     "name": "stdout",
     "output_type": "stream",
     "text": [
      "[2, 3]\n"
     ]
    }
   ],
   "source": [
    "l = [1,2,3,4,5]\n",
    "print(l[1:3])"
   ]
  }
 ],
 "metadata": {
  "kernelspec": {
   "display_name": "Python 3",
   "language": "python",
   "name": "python3"
  },
  "language_info": {
   "codemirror_mode": {
    "name": "ipython",
    "version": 3
   },
   "file_extension": ".py",
   "mimetype": "text/x-python",
   "name": "python",
   "nbconvert_exporter": "python",
   "pygments_lexer": "ipython3",
   "version": "3.13.1"
  }
 },
 "nbformat": 4,
 "nbformat_minor": 2
}
