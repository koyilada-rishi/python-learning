{
 "cells": [
  {
   "cell_type": "code",
   "execution_count": null,
   "metadata": {},
   "outputs": [],
   "source": [
    "8th code"
   ]
  },
  {
   "cell_type": "code",
   "execution_count": null,
   "metadata": {},
   "outputs": [],
   "source": [
    "s=[ 5, 8 ,10, 11, 50, 15, 20, 25]\n",
    "res=0\n",
    "for i in s:\n",
    "    if res < i:\n",
    "        res=i\n",
    "print(res)\n",
    "print(max(s))\n"
   ]
  },
  {
   "cell_type": "markdown",
   "metadata": {},
   "source": [
    "\n",
    "2114. maximum-number-of-words-found-in-sentences\n",
    "\n",
    "A sentence is a list of words that are separated by a single space with no leading or trailing spaces.\n",
    "\n",
    "You are given an array of strings sentences, where each sentences[i] represents a single sentence.\n",
    "\n",
    "Return the maximum number of words that appear in a single sentence.\n",
    "\n",
    " \n",
    "\n",
    "Example 1:\n",
    "\n",
    "Input: sentences = [\"alice and bob love leetcode\", \"i think so too\", \"this is great thanks very much\"]\n",
    "Output: 6\n",
    "Explanation: \n",
    "- The first sentence, \"alice and bob love leetcode\", has 5 words in total.\n",
    "- The second sentence, \"i think so too\", has 4 words in total.\n",
    "- The third sentence, \"this is great thanks very much\", has 6 words in total.\n",
    "Thus, the maximum number of words in a single sentence comes from the third sentence, which has 6 words.\n",
    "Example 2:\n",
    "\n",
    "Input: sentences = [\"please wait\", \"continue to fight\", \"continue to win\"]\n",
    "Output: 3\n",
    "Explanation: It is possible that multiple sentences contain the same number of words. \n",
    "In this example, the second and third sentences (underlined) have the same number of words.\n"
   ]
  },
  {
   "cell_type": "code",
   "execution_count": null,
   "metadata": {},
   "outputs": [],
   "source": [
    "sentences = [\"alice and bob love leetcode\", \"i think so too\", \"this is great thanks very much\"]\n",
    "ans=0\n",
    "for i in range(len(sentences)):\n",
    "    s=sentences[i]\n",
    "    tmp=1\n",
    "    for j in range(len(s)):\n",
    "        if s[j]== \" \":\n",
    "            tmp = tmp + 1\n",
    "    ans = max(ans,tmp)\n",
    "print(ans)"
   ]
  },
  {
   "cell_type": "code",
   "execution_count": null,
   "metadata": {},
   "outputs": [],
   "source": [
    "sentences = [\"alice and bob love leetcode\", \"i think so too\", \"this is great thanks very much\"]\n",
    "count_array = []\n",
    "for i in sentences:\n",
    "    array_count=i.split()\n",
    "    count_array.append(len(array_count))\n",
    "print(max(count_array))\n",
    "\n",
    "test_sentences=sentences[0].split()\n",
    "print(len(test_sentences))\n",
    "\n"
   ]
  },
  {
   "cell_type": "code",
   "execution_count": null,
   "metadata": {},
   "outputs": [],
   "source": [
    "mat=[[1,2,3],[3,2,1]]\n",
    "for i in range(len(mat)):\n",
    "    for j in range(len(mat[i])):\n",
    "        print(f\"ma[{i}],mat[{j}]\",mat[i][j])"
   ]
  },
  {
   "cell_type": "code",
   "execution_count": null,
   "metadata": {},
   "outputs": [],
   "source": [
    "mat = [[10, 20], [30, 40], [50, 60]]\n",
    "# (sum(mat, []))\n",
    "\n",
    "\n",
    "print(sum(mat,[]))\n"
   ]
  },
  {
   "cell_type": "code",
   "execution_count": null,
   "metadata": {},
   "outputs": [],
   "source": [
    "mat = [[1, 2, 3], [4, 5], [6]]\n",
    "flattened = [item for sublist in mat for item in sublist]\n",
    "print(flattened)\n"
   ]
  },
  {
   "cell_type": "code",
   "execution_count": null,
   "metadata": {},
   "outputs": [],
   "source": [
    "r=4\n",
    "c=4\n",
    "for i in range(r):\n",
    "    for j in range(c):\n",
    "            print(i,j,\" \",end=\"\")\n",
    "    print()"
   ]
  },
  {
   "cell_type": "code",
   "execution_count": null,
   "metadata": {},
   "outputs": [],
   "source": [
    "r=4\n",
    "c=4\n",
    "t=1\n",
    "for i in range(r):\n",
    "    for j in range(c):\n",
    "        if (i == 0 or i == r-1 ) or (j == 0 or j == c-1): \n",
    "            print(i,j,\" \",end=\"\")\n",
    "        # if (j == 0 or j == c-1):\n",
    "        #     print(i,j,\" \",end=\"\")\n",
    "            \n",
    "    print()"
   ]
  },
  {
   "cell_type": "code",
   "execution_count": null,
   "metadata": {},
   "outputs": [],
   "source": [
    "a=t=5\n",
    "\n",
    "while a >= t:\n",
    "    for i in range((a*2)+1):\n",
    "        if i <= a:\n",
    "            print(i,end=\"\")\n",
    "        else:\n",
    "            print(\"*\",end=\"\")\n",
    "    print()\n",
    "    a= a-1\n"
   ]
  },
  {
   "cell_type": "markdown",
   "metadata": {},
   "source": [
    "121. Best Time to Buy and Sell Stock\n",
    "Easy\n",
    "Topics\n",
    "Companies\n",
    "You are given an array prices where prices[i] is the price of a given stock on the ith day.\n",
    "\n",
    "You want to maximize your profit by choosing a single day to buy one stock and choosing a different day in the future to sell that stock.\n",
    "\n",
    "Return the maximum profit you can achieve from this transaction. If you cannot achieve any profit, return 0.\n",
    "\n",
    " \n",
    "\n",
    "Example 1:\n",
    "\n",
    "Input: prices = [7,1,5,3,6,4]\n",
    "Output: 5\n",
    "Explanation: Buy on day 2 (price = 1) and sell on day 5 (price = 6), profit = 6-1 = 5.\n",
    "Note that buying on day 2 and selling on day 1 is not allowed because you must buy before you sell.\n",
    "Example 2:\n",
    "\n",
    "Input: prices = [7,6,4,3,1]\n",
    "Output: 0\n",
    "Explanation: In this case, no transactions are done and the max profit = 0.\n",
    " "
   ]
  },
  {
   "cell_type": "code",
   "execution_count": null,
   "metadata": {},
   "outputs": [],
   "source": [
    "# prices = [7,2,5,3,1,8,6,4]\n",
    "# prices= [7,6,4,3,1]\n",
    "# prices=[10,8,1]\n",
    "# prices=[3,2,6,5,0,3]\n",
    "# prices=[2,1,2,0,1]\n",
    "# prices = [2,1,2,1,0,1,2]    result 2\n",
    "# prices=[7,1,5,3,6,4]\n",
    "prices = [3,2,6,5,0,3]\n",
    "p=[]\n",
    "x=len(prices)\n",
    "y=0\n",
    "for i in range(len(prices)-1):\n",
    "    if prices[i]<prices[i+1]:\n",
    "        if prices[i] != 0:\n",
    "            if prices[i] < x :\n",
    "                p.append(prices[i])\n",
    "            if prices[i+1] > y:\n",
    "                p.append(prices[i+1])\n",
    "                \n",
    "print(\" i am len of p\",len(p))\n",
    "x=max(p)\n",
    "print(\" iam y\",y)\n",
    "print(\" i am p\",p)\n",
    "for i in range(len(p)):\n",
    "    if p[i] != y:\n",
    "        print(f\" iam i, p[i],  {i},{p[i]} and y before {y} \")\n",
    "        if x - p[i]  > y :\n",
    "            y= x - p[i]\n",
    "            print(\" iam y result\",y)\n",
    "        \n",
    "print(y)\n",
    "# if y==0 or x==0:\n",
    "#     print(0)\n",
    "# else:\n",
    "#     print(f\"lowest values {x} and hights values is {y}\")\n",
    "#     print(y-x)\n",
    "\n"
   ]
  },
  {
   "cell_type": "code",
   "execution_count": 172,
   "metadata": {},
   "outputs": [
    {
     "name": "stdout",
     "output_type": "stream",
     "text": [
      "1\n"
     ]
    }
   ],
   "source": [
    "prices = [2,1,2,1,0,1,2] \n",
    "li=hi=di=0\n",
    "for i in range(len(prices)):\n",
    "    if prices[i]<prices[li]:\n",
    "        li = i\n",
    "        if li > hi:\n",
    "            hi = i\n",
    "    if prices[i] > prices[hi]:\n",
    "        hi = i\n",
    "    if prices[hi] - prices[li] > di:\n",
    "        di = prices[hi] - prices[li]\n",
    "print(di)\n",
    "    "
   ]
  },
  {
   "cell_type": "code",
   "execution_count": 177,
   "metadata": {},
   "outputs": [
    {
     "name": "stdout",
     "output_type": "stream",
     "text": [
      "9\n"
     ]
    }
   ],
   "source": [
    "prices = [2,1,4,1,10,1,0,4]\n",
    "lowestPrice = float(\"inf\")\n",
    "profit = 0\n",
    "\n",
    "for i in prices:\n",
    "    if i < lowestPrice:\n",
    "        lowestPrice = i\n",
    "    elif i - lowestPrice > profit:\n",
    "        profit = i - lowestPrice\n",
    "\n",
    "print(profit)"
   ]
  },
  {
   "cell_type": "markdown",
   "metadata": {},
   "source": [
    "2016. Maximum Difference Between Increasing Elements\n",
    "\n",
    "Given a 0-indexed integer array nums of size n, find the maximum difference between nums[i] and nums[j] (i.e., nums[j] - nums[i]), such that 0 <= i < j < n and nums[i] < nums[j].\n",
    "\n",
    "Return the maximum difference. If no such i and j exists, return -1.\n",
    "\n",
    " \n",
    "\n",
    "Example 1:\n",
    "\n",
    "Input: nums = [7,1,5,4]\n",
    "Output: 4\n",
    "Explanation:\n",
    "The maximum difference occurs with i = 1 and j = 2, nums[j] - nums[i] = 5 - 1 = 4.\n",
    "Note that with i = 1 and j = 0, the difference nums[j] - nums[i] = 7 - 1 = 6, but i > j, so it is not valid.\n",
    "Example 2:\n",
    "\n",
    "Input: nums = [9,4,3,2]\n",
    "Output: -1\n",
    "Explanation:\n",
    "There is no i and j such that i < j and nums[i] < nums[j].\n",
    "Example 3:\n",
    "\n",
    "Input: nums = [1,5,2,10]\n",
    "Output: 9\n",
    "Explanation:\n",
    "The maximum difference occurs with i = 0 and j = 3, nums[j] - nums[i] = 10 - 1 = 9.\n"
   ]
  },
  {
   "cell_type": "code",
   "execution_count": 186,
   "metadata": {},
   "outputs": [
    {
     "name": "stdout",
     "output_type": "stream",
     "text": [
      "7\n"
     ]
    }
   ],
   "source": [
    "ip = [7,1,5,4]\n",
    "i=0\n",
    "j=0\n",
    "t=0\n",
    "ll=ip[0]\n",
    "for x in range(len(ip)-1):\n",
    "    if t == 0:\n",
    "        i = x\n",
    "    j=x+1\n",
    "    if j-i > ll:\n",
    "        ll = j-i\n",
    "        i = t\n",
    "print(ll)"
   ]
  }
 ],
 "metadata": {
  "kernelspec": {
   "display_name": "Python 3",
   "language": "python",
   "name": "python3"
  },
  "language_info": {
   "codemirror_mode": {
    "name": "ipython",
    "version": 3
   },
   "file_extension": ".py",
   "mimetype": "text/x-python",
   "name": "python",
   "nbconvert_exporter": "python",
   "pygments_lexer": "ipython3",
   "version": "3.11.9"
  }
 },
 "nbformat": 4,
 "nbformat_minor": 2
}
