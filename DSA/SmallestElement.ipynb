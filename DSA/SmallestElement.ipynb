{
 "cells": [
  {
   "cell_type": "markdown",
   "metadata": {},
   "source": [
    "Find out the  small element in the list"
   ]
  },
  {
   "cell_type": "code",
   "execution_count": null,
   "metadata": {},
   "outputs": [],
   "source": [
    "def SmallestElement(iplist):\n",
    "    x = len(iplist)\n",
    "    for i in range(len(iplist)-1):\n",
    "        if x > iplist[i +1]:\n",
    "            x = iplist[i+1]\n",
    "    return x\n",
    "        "
   ]
  },
  {
   "cell_type": "code",
   "execution_count": null,
   "metadata": {},
   "outputs": [],
   "source": [
    "#input\n",
    "\n",
    "iplist=[8,100,20,0,40,3,7]\n",
    "\n",
    "print(SmallestElement(iplist))"
   ]
  },
  {
   "cell_type": "markdown",
   "metadata": {},
   "source": [
    "Find out the smallest elements in the  list as:\n",
    "\n",
    "`I/P: iplist=[8,100,20,40,3,7]`\n",
    "`x = 10`\n",
    "\n",
    "`O/P: [8,3,7]`\n",
    "\n",
    "that means x is taken as referance and valuse less than x should be taken into new list "
   ]
  },
  {
   "cell_type": "code",
   "execution_count": null,
   "metadata": {},
   "outputs": [],
   "source": [
    "def SmallestElements(iplist,x):\n",
    "    result = []\n",
    "    for i in iplist:\n",
    "        if i < x:\n",
    "            result.append(i)\n",
    "    return result"
   ]
  },
  {
   "cell_type": "code",
   "execution_count": null,
   "metadata": {},
   "outputs": [],
   "source": [
    "#input\n",
    "\n",
    "# iplist=[8,100,20,40,3,7]\n",
    "# x = 10\n",
    "iplist = [100,20,40,60,80,200]\n",
    "x = 60\n",
    "print(SmallestElements(iplist,x))"
   ]
  },
  {
   "cell_type": "code",
   "execution_count": null,
   "metadata": {},
   "outputs": [],
   "source": [
    "s=\"geeksforgeeks\"\n",
    "for i in s:\n",
    "    # print(i)\n",
    "    if i in \"aeiou\":\n",
    "        print(i)"
   ]
  },
  {
   "cell_type": "markdown",
   "metadata": {},
   "source": [
    "Dictionary Comprehensions"
   ]
  },
  {
   "cell_type": "code",
   "execution_count": null,
   "metadata": {},
   "outputs": [],
   "source": [
    "l1 = [1,2,3,4,5]\n",
    "d1={x:x**3 for x in l1}\n",
    "print(d1)"
   ]
  },
  {
   "cell_type": "code",
   "execution_count": null,
   "metadata": {},
   "outputs": [],
   "source": [
    "d2 = {x:f\"ID{x}\" for x in range(5)}\n",
    "print(d2)"
   ]
  },
  {
   "cell_type": "code",
   "execution_count": null,
   "metadata": {},
   "outputs": [],
   "source": [
    "l2 = [101,103,102]\n",
    "l3 = [\"gfg\", \"ide\", \"course\"]\n",
    "d3 = {l2[i]:l3[i] for i in range(len(l2))}\n",
    "print(d3)"
   ]
  },
  {
   "cell_type": "code",
   "execution_count": null,
   "metadata": {},
   "outputs": [],
   "source": [
    "s = \"00110011\"\n",
    "z=0\n",
    "o=0\n",
    "for i in s:\n",
    "    if i == \"0\":\n",
    "        z = z+ 1\n",
    "    else:\n",
    "        o = o + 1\n",
    "print(z,o)"
   ]
  },
  {
   "cell_type": "code",
   "execution_count": 111,
   "metadata": {},
   "outputs": [
    {
     "name": "stdout",
     "output_type": "stream",
     "text": [
      "len(s) 6\n",
      " iam from Y [0, 2, 3, 5]\n",
      "[0, 2, 3, 5] [1, 4] 4\n",
      " iam count 0  res 5\n",
      "5\n",
      "5\n"
     ]
    }
   ],
   "source": [
    "# s = \"00110011\"\n",
    "s = \"010010\"\n",
    "res=0\n",
    "x=[]\n",
    "y=[]\n",
    "count = 0\n",
    "print(\"len(s)\", len(s))\n",
    "for i in range(len(s)-1):\n",
    "    if s[i+1]!=s[i]:\n",
    "        res=res+1\n",
    "    if s[i] == \"0\":\n",
    "        x.append(i)\n",
    "    else:\n",
    "        y.append(i)\n",
    "if s[-1]==\"1\":\n",
    "    y.append(len(s)-1)\n",
    "else:\n",
    "    x.append(len(s)-1)\n",
    "    print(\" iam from Y\",x)\n",
    "    \n",
    "print(x,y,res)\n",
    "while count < len(s)-1:\n",
    "    test=0\n",
    "    if count < len(x)-1:\n",
    "        test = x[count+1] - x[count]\n",
    "        if test -2 == 1:\n",
    "            res = res + test - 2\n",
    "    if count < len(y)-1:\n",
    "        test = y[count+1]-y[count]\n",
    "        if test -2 == 1:\n",
    "            res = res + test - 2\n",
    "            print(\" iam count\",count,\" res\",res)\n",
    "            \n",
    "    count = count +1 \n",
    "\n",
    "print(res)\n",
    "\n",
    "if x[-1]-x[-2]==1 and x[-1]==len(s)-3:\n",
    "    print(\"  am i working\")\n",
    "    res = res + 1\n",
    "print( res)\n",
    "        \n",
    "        \n",
    "         \n",
    "    \n",
    "         \n"
   ]
  },
  {
   "cell_type": "code",
   "execution_count": null,
   "metadata": {},
   "outputs": [],
   "source": [
    "s = \"00110011\"\n",
    "q=[]\n",
    "w=[]\n",
    "for i in range(len(s)):\n",
    "    if s[i] == 0:\n",
    "        print(\" i am from 0's\",s[i])\n",
    "        q.append(i)\n",
    "    else:\n",
    "        print(\" i am from 1's\",s[i])\n",
    "        w.append(i)\n",
    "print(w)"
   ]
  }
 ],
 "metadata": {
  "kernelspec": {
   "display_name": "Python 3",
   "language": "python",
   "name": "python3"
  },
  "language_info": {
   "codemirror_mode": {
    "name": "ipython",
    "version": 3
   },
   "file_extension": ".py",
   "mimetype": "text/x-python",
   "name": "python",
   "nbconvert_exporter": "python",
   "pygments_lexer": "ipython3",
   "version": "3.11.9"
  }
 },
 "nbformat": 4,
 "nbformat_minor": 2
}
