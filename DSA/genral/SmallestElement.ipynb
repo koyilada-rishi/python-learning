{
 "cells": [
  {
   "cell_type": "markdown",
   "metadata": {},
   "source": [
    "Find out the  small element in the list"
   ]
  },
  {
   "cell_type": "code",
   "execution_count": null,
   "metadata": {},
   "outputs": [],
   "source": [
    "def SmallestElement(iplist):\n",
    "    x = len(iplist)\n",
    "    for i in range(len(iplist)-1):\n",
    "        if x > iplist[i +1]:\n",
    "            x = iplist[i+1]\n",
    "    return x\n",
    "        "
   ]
  },
  {
   "cell_type": "code",
   "execution_count": null,
   "metadata": {},
   "outputs": [],
   "source": [
    "#input\n",
    "\n",
    "iplist=[8,100,20,0,40,3,7]\n",
    "\n",
    "print(SmallestElement(iplist))"
   ]
  },
  {
   "cell_type": "markdown",
   "metadata": {},
   "source": [
    "Find out the smallest elements in the  list as:\n",
    "\n",
    "`I/P: iplist=[8,100,20,40,3,7]`\n",
    "`x = 10`\n",
    "\n",
    "`O/P: [8,3,7]`\n",
    "\n",
    "that means x is taken as referance and valuse less than x should be taken into new list "
   ]
  },
  {
   "cell_type": "code",
   "execution_count": null,
   "metadata": {},
   "outputs": [],
   "source": [
    "def SmallestElements(iplist,x):\n",
    "    result = []\n",
    "    for i in iplist:\n",
    "        if i < x:\n",
    "            result.append(i)\n",
    "    return result"
   ]
  },
  {
   "cell_type": "code",
   "execution_count": null,
   "metadata": {},
   "outputs": [],
   "source": [
    "#input\n",
    "\n",
    "# iplist=[8,100,20,40,3,7]\n",
    "# x = 10\n",
    "iplist = [100,20,40,60,80,200]\n",
    "x = 60\n",
    "print(SmallestElements(iplist,x))"
   ]
  },
  {
   "cell_type": "code",
   "execution_count": null,
   "metadata": {},
   "outputs": [],
   "source": [
    "s=\"geeksforgeeks\"\n",
    "for i in s:\n",
    "    # print(i)\n",
    "    if i in \"aeiou\":\n",
    "        print(i)"
   ]
  },
  {
   "cell_type": "markdown",
   "metadata": {},
   "source": [
    "Dictionary Comprehensions"
   ]
  },
  {
   "cell_type": "code",
   "execution_count": null,
   "metadata": {},
   "outputs": [],
   "source": [
    "l1 = [1,2,3,4,5]\n",
    "d1={x:x**3 for x in l1}\n",
    "print(d1)"
   ]
  },
  {
   "cell_type": "code",
   "execution_count": null,
   "metadata": {},
   "outputs": [],
   "source": [
    "d2 = {x:f\"ID{x}\" for x in range(5)}\n",
    "print(d2)"
   ]
  },
  {
   "cell_type": "code",
   "execution_count": null,
   "metadata": {},
   "outputs": [],
   "source": [
    "l2 = [101,103,102]\n",
    "l3 = [\"gfg\", \"ide\", \"course\"]\n",
    "d3 = {l2[i]:l3[i] for i in range(len(l2))}\n",
    "print(d3)"
   ]
  },
  {
   "cell_type": "code",
   "execution_count": null,
   "metadata": {},
   "outputs": [],
   "source": [
    "s = \"00110011\"\n",
    "z=0\n",
    "o=0\n",
    "for i in s:\n",
    "    if i == \"0\":\n",
    "        z = z+ 1\n",
    "    else:\n",
    "        o = o + 1\n",
    "print(z,o)"
   ]
  },
  {
   "cell_type": "code",
   "execution_count": null,
   "metadata": {},
   "outputs": [],
   "source": [
    "# s = \"00110011\"\n",
    "s = \"010010\"\n",
    "res=0\n",
    "x=[]\n",
    "y=[]\n",
    "count = 0\n",
    "print(\"len(s)\", len(s))\n",
    "for i in range(len(s)-1):\n",
    "    if s[i+1]!=s[i]:\n",
    "        res=res+1\n",
    "    if s[i] == \"0\":\n",
    "        x.append(i)\n",
    "    else:\n",
    "        y.append(i)\n",
    "if s[-1]==\"1\":\n",
    "    y.append(len(s)-1)\n",
    "else:\n",
    "    x.append(len(s)-1)\n",
    "    print(\" iam from Y\",x)\n",
    "    \n",
    "print(x,y,res)\n",
    "while count < len(s)-1:\n",
    "    test=0\n",
    "    if count < len(x)-1:\n",
    "        test = x[count+1] - x[count]\n",
    "        if test -2 == 1:\n",
    "            res = res + test - 2\n",
    "    if count < len(y)-1:\n",
    "        test = y[count+1]-y[count]\n",
    "        if test -2 == 1:\n",
    "            res = res + test - 2\n",
    "            print(\" iam count\",count,\" res\",res)\n",
    "            \n",
    "    count = count +1 \n",
    "\n",
    "print(res)\n",
    "\n",
    "if x[-1]-x[-2]==1 and x[-1]==len(s)-3:\n",
    "    print(\"  am i working\")\n",
    "    res = res + 1\n",
    "print( res)\n",
    "        \n",
    "        \n",
    "         \n",
    "    \n",
    "         \n"
   ]
  },
  {
   "cell_type": "code",
   "execution_count": null,
   "metadata": {},
   "outputs": [],
   "source": [
    "s = \"00110011\"\n",
    "q=[]\n",
    "w=[]\n",
    "for i in range(len(s)):\n",
    "    if s[i] == 0:\n",
    "        print(\" i am from 0's\",s[i])\n",
    "        q.append(i)\n",
    "    else:\n",
    "        print(\" i am from 1's\",s[i])\n",
    "        w.append(i)\n",
    "print(w)"
   ]
  },
  {
   "cell_type": "code",
   "execution_count": null,
   "metadata": {},
   "outputs": [],
   "source": [
    "s=\"00110011\"\n",
    "x = [1,2]\n",
    "\n",
    "for i in range(len(x)):\n",
    "    x[i]=  f\"s[{i}]\"\n",
    "print(x)\n",
    "i=0\n",
    "if (s[i],s[i+1])==(0,0):\n",
    "    print(\"uye\")\n",
    "print(s[i],s[i+1])"
   ]
  },
  {
   "cell_type": "code",
   "execution_count": null,
   "metadata": {},
   "outputs": [],
   "source": [
    "def countBinarySubstrings(s):\n",
    "    # Initialize an array to store the lengths of consecutive groups\n",
    "    groups = []\n",
    "    count = 1  # Start with 1 for the first character\n",
    "\n",
    "    # Group consecutive 0's or 1's\n",
    "    for i in range(1, len(s)):\n",
    "        if s[i] == s[i - 1]:\n",
    "            count += 1  # Increment count for the same character\n",
    "        else:\n",
    "            groups.append(count)  # Store the length of the current group\n",
    "            count = 1  # Reset count for the next group\n",
    "\n",
    "    groups.append(count)  # Add the last group's length\n",
    "\n",
    "    # Count substrings with equal 0's and 1's\n",
    "    result = 0\n",
    "    for i in range(1, len(groups)):\n",
    "        result += min(groups[i], groups[i - 1])  # Add the minimum of two consecutive groups\n",
    "\n",
    "    return result\n",
    "\n",
    "# Read input for multiple test cases\n",
    "def run_test_cases():\n",
    "    t = int(input(\"Enter the number of test cases: \"))\n",
    "    for _ in range(t):\n",
    "        s = input(\"Enter the binary string: \")\n",
    "        print(f\"Count of valid substrings: {countBinarySubstrings(s)}\")\n",
    "\n",
    "# Run the function\n",
    "run_test_cases()\n"
   ]
  },
  {
   "cell_type": "code",
   "execution_count": null,
   "metadata": {},
   "outputs": [],
   "source": [
    "def countBinarySubstrings(s):\n",
    "    # Step 1: Group consecutive 0s and 1s\n",
    "    groups = []\n",
    "    count = 1  # Start counting the first character\n",
    "\n",
    "    for i in range(1, len(s)):\n",
    "        if s[i] == s[i - 1]:  # Same as previous character\n",
    "            count += 1\n",
    "        else:  # New group starts\n",
    "            groups.append(count)  # Save the count of the previous group\n",
    "            count = 1  # Reset the count for the new group\n",
    "    groups.append(count)  # Append the count of the last group\n",
    "\n",
    "    # Step 2: Count valid substrings between consecutive groups\n",
    "    result = 0\n",
    "    for i in range(1, len(groups)):\n",
    "        result += min(groups[i], groups[i - 1])  # Add the minimum of two adjacent groups\n",
    "\n",
    "    return result\n",
    "\n",
    "# Input binary string\n",
    "binary_string = input(\"Enter the binary string: \")\n",
    "result = countBinarySubstrings(binary_string)\n",
    "print(f\"Number of valid substrings: {result}\")\n"
   ]
  },
  {
   "cell_type": "code",
   "execution_count": null,
   "metadata": {},
   "outputs": [],
   "source": [
    "def countBinarySubstringsWithIndices(s):\n",
    "    # Step 1: Group consecutive 0s and 1s with their indices\n",
    "    groups = []\n",
    "    start = 0\n",
    "    count = 1  # Start counting from the first character\n",
    "\n",
    "    for i in range(1, len(s)):\n",
    "        if s[i] == s[i - 1]:  # Same as previous character\n",
    "            count += 1\n",
    "        else:  # New group starts\n",
    "            groups.append((start, i - 1, count))  # Append start index, end index, and count\n",
    "            start = i  # Update start for the next group\n",
    "            count = 1  # Reset the count for the new group\n",
    "    groups.append((start, len(s) - 1, count))  # Append the last group\n",
    "\n",
    "    # Step 2: Count valid substrings and track their indices\n",
    "    result = 0\n",
    "    combinations = []\n",
    "\n",
    "    for i in range(1, len(groups)):\n",
    "        # Number of valid substrings is the minimum of two adjacent groups\n",
    "        group1_start, group1_end, group1_count = groups[i - 1]\n",
    "        group2_start, group2_end, group2_count = groups[i]\n",
    "        valid_count = min(group1_count, group2_count)\n",
    "        result += valid_count\n",
    "\n",
    "        # Add indices for all valid substrings\n",
    "        for j in range(valid_count):\n",
    "            start_index = group1_start + j\n",
    "            end_index = group2_start + j\n",
    "            combinations.append((start_index, end_index))\n",
    "\n",
    "    return result, combinations\n",
    "\n",
    "\n",
    "# Input binary string\n",
    "binary_string = input(\"Enter the binary string: \")\n",
    "result, combinations = countBinarySubstringsWithIndices(binary_string)\n",
    "\n",
    "print(f\"Number of valid substrings: {result}\")\n",
    "print(\"Indices of valid substrings:\")\n",
    "for start, end in combinations:\n",
    "    print(f\"Substring: {binary_string[start:end+1]}, Indices: {start}-{end}\")\n"
   ]
  },
  {
   "cell_type": "markdown",
   "metadata": {},
   "source": [
    "2011 leecode "
   ]
  },
  {
   "cell_type": "code",
   "execution_count": 19,
   "metadata": {},
   "outputs": [
    {
     "name": "stdout",
     "output_type": "stream",
     "text": [
      "The final value after operations is: 1\n"
     ]
    }
   ],
   "source": [
    "from typing import List\n",
    "\n",
    "class Solution:\n",
    "    def finalValueAfterOperations(self, operations: List[str]) -> int:\n",
    "# s=[\"--X\",\"X++\",\"X++\"]\n",
    "        ans=0\n",
    "        for i in s:\n",
    "            if i == \"X--\" or i == \"--X\":\n",
    "                ans = ans - 1\n",
    "            if i == \"++X\" or i == \"X++\":\n",
    "                ans = ans + 1\n",
    "        return ans \n",
    "\n",
    "# Input\n",
    "operations = [\"--X\", \"X++\", \"X++\"]\n",
    "\n",
    "# Create an instance of the Solution class\n",
    "solution = Solution()\n",
    "\n",
    "# Call the method and pass the input\n",
    "result = solution.finalValueAfterOperations(operations)\n",
    "\n",
    "# Output the result\n",
    "print(f\"The final value after operations is: {result}\")\n"
   ]
  },
  {
   "cell_type": "markdown",
   "metadata": {},
   "source": [
    "1108 : Defanging a Ip Address\n",
    "\n",
    "Given a valid (IPv4) IP address, return a defanged version of that IP address.\n",
    "\n",
    "A defanged IP address replaces every period \".\" with \"[.]\".\n",
    "\n",
    " \n",
    "\n",
    "Example 1:\n",
    "\n",
    "Input: address = \"1.1.1.1\"\n",
    "Output: \"1[.]1[.]1[.]1\"\n",
    "Example 2:\n",
    "\n",
    "Input: address = \"255.100.50.0\"\n",
    "Output: \"255[.]100[.]50[.]0\"\n",
    " \n",
    "\n",
    "Constraints:\n",
    "\n",
    "The given address is a valid IPv4 address."
   ]
  },
  {
   "cell_type": "code",
   "execution_count": 28,
   "metadata": {},
   "outputs": [
    {
     "name": "stdout",
     "output_type": "stream",
     "text": [
      "1[.]1[.]1[.]1\n"
     ]
    }
   ],
   "source": [
    "address=\"1.1.1.1\"\n",
    "result=\"\"\n",
    "for i in address:\n",
    "    if i == \".\":\n",
    "        result = result + \"[.]\"\n",
    "    else:\n",
    "        result = result + i\n",
    "print( result)"
   ]
  }
 ],
 "metadata": {
  "kernelspec": {
   "display_name": "Python 3",
   "language": "python",
   "name": "python3"
  },
  "language_info": {
   "codemirror_mode": {
    "name": "ipython",
    "version": 3
   },
   "file_extension": ".py",
   "mimetype": "text/x-python",
   "name": "python",
   "nbconvert_exporter": "python",
   "pygments_lexer": "ipython3",
   "version": "3.11.9"
  }
 },
 "nbformat": 4,
 "nbformat_minor": 2
}
