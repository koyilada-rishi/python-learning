{
 "cells": [
  {
   "cell_type": "code",
   "execution_count": null,
   "metadata": {},
   "outputs": [],
   "source": [
    "l=[1,3,5,6,8,10,2,4,6,8]\n",
    "\n",
    "l.sort()\n",
    "print(l)\n",
    "l.sort(reverse=True)\n",
    "print(l)"
   ]
  },
  {
   "cell_type": "code",
   "execution_count": null,
   "metadata": {},
   "outputs": [],
   "source": [
    "class point:\n",
    "    def __init__(self,x,y):\n",
    "        self.x=x\n",
    "        self.y=y\n",
    "\n",
    "def fun(p):\n",
    "    return p.x\n",
    "\n",
    "l=[point(1,10),point(1,17),point(2,20)]\n",
    "l.sort(key = fun)\n",
    "for i in l:\n",
    "    print(i.x,i.y)\n"
   ]
  },
  {
   "cell_type": "code",
   "execution_count": null,
   "metadata": {},
   "outputs": [],
   "source": [
    "class point:\n",
    "    def __init__(self,x,y):\n",
    "        self.x=x\n",
    "        self.y=y\n",
    "    def __lt__(self,other):\n",
    "        return self.x<other.x\n",
    "\n",
    "l=[point(1,10),point(5,17),point(2,20)]\n",
    "l.sort()\n",
    "for i in l:\n",
    "    print(i.x,i.y)\n"
   ]
  },
  {
   "cell_type": "code",
   "execution_count": null,
   "metadata": {},
   "outputs": [],
   "source": [
    "class SampleClass:\n",
    "    attribute1= 1\n",
    "    attribute2 = 2\n",
    "\n",
    "obj1 = SampleClass()\n",
    "obj2 = SampleClass()\n",
    "obj3 = SampleClass()\n",
    "obj1.attribute1 = 10\n",
    "print(obj1.attribute1)\n",
    "print(SampleClass.attribute1)\n",
    "print(obj2.attribute1)\n",
    "SampleClass.attribute1 = 50\n",
    "print(f\"SampleClass.attribute1 = {50}\")\n",
    "print(obj1.attribute1)\n",
    "print(SampleClass.attribute1)\n",
    "print(obj2.attribute1)\n"
   ]
  },
  {
   "cell_type": "code",
   "execution_count": null,
   "metadata": {},
   "outputs": [],
   "source": [
    "class SampleClass1:\n",
    "    def sampleMethod(self,attribute1):\n",
    "        print(\"this is amethod in a class\")\n",
    "        self.attribute1 = attribute1\n",
    "        print(self.attribute1)\n",
    "        \n",
    "obj1 = SampleClass1()\n",
    "obj1.sampleMethod(attribute1=10)"
   ]
  },
  {
   "cell_type": "markdown",
   "metadata": {},
   "source": [
    "creating a class for having banking system attributes and creating the process like withdraw, deposit, checkbalance as a methods ans individual whose accounts are created are places as objects."
   ]
  },
  {
   "cell_type": "code",
   "execution_count": null,
   "metadata": {},
   "outputs": [],
   "source": [
    "class Bank:\n",
    "    def __init__(self, AccountName, AccountNumber, IFSCcode, Balance):\n",
    "        self.AccountName = AccountName\n",
    "        self.acoountNumber = AccountNumber\n",
    "        self.IFSCcode = IFSCcode\n",
    "        self.Balance = Balance\n",
    "    def Withdraw(self,Ammount):\n",
    "        self.Balance = self.Balance - Ammount\n",
    "    def Deposit(self, Ammount):\n",
    "        self.Balance = self.Balance + Ammount\n",
    "    def CheckBalance(self):\n",
    "        print(self.Balance)\n",
    "obj1 = Bank('Rishi', 123456789, 'HDFC0001', 1000000000)\n",
    "koy = Bank(\"koyyy\", 123457687, \"HDFC0001\", 2000000000)\n",
    "obj1.CheckBalance()\n",
    "obj1.Withdraw(500)\n",
    "obj1.CheckBalance()\n",
    "koy.CheckBalance()\n",
    "koy.Deposit(500)\n",
    "koy.CheckBalance()"
   ]
  },
  {
   "cell_type": "code",
   "execution_count": null,
   "metadata": {},
   "outputs": [],
   "source": [
    "obj1 = Bank(123456789, \"Rishi\", \"HDFC0001\", 1000000000)\n",
    "koy = Bank(123457687,\"koyyy\",\"HDFC0001\", 20000000)\n",
    "print(obj1.CheckBalance)\n",
    "print(koy.CheckBalance)"
   ]
  },
  {
   "cell_type": "markdown",
   "metadata": {},
   "source": [
    "Inheritance:-\n",
    "\n",
    "Ability to use methods & attributes in  a newly created class from already created class called Inheritance:\n",
    "\n",
    "Creating a new class from alreadt created class\n",
    "\n",
    "Super class , base class , parent class are the names of of the main class from where we are going to inherit\n",
    "\n",
    "Derived class, Child class, Sub Class is the class  where we inherit all the parent methods of to it \n"
   ]
  },
  {
   "cell_type": "markdown",
   "metadata": {},
   "source": [
    "Types of Inheritance:\n",
    "\n",
    "1. Single Inheritance\n",
    "2. Multiple Inheritance\n",
    "3. Multilevel Inhertiance\n",
    "4. Hierarchical Inheritance\n",
    "5. Hybrid Inheritance"
   ]
  },
  {
   "cell_type": "code",
   "execution_count": null,
   "metadata": {},
   "outputs": [],
   "source": [
    "# Single Inheritance\n",
    "\n",
    "class Parent:\n",
    "    def method1(self):\n",
    "        print(\" Iam from parent Class \")\n",
    "class Child(Parent):\n",
    "    def method2(self):\n",
    "        print(\" Iam from Child class\")\n",
    "        \n",
    "child = Child()\n",
    "child.method2()\n",
    "child.method1()"
   ]
  },
  {
   "cell_type": "code",
   "execution_count": null,
   "metadata": {},
   "outputs": [],
   "source": [
    "# Multiple Inheritance\n",
    "\n",
    "class Parent1:\n",
    "    def method1(self):\n",
    "        print(\" I ma from parent1\")\n",
    "class Parent2:\n",
    "    def method2(self):\n",
    "        print(\" I am from Parent2\")\n",
    "class Child(Parent1, Parent2):\n",
    "    def method3(self):\n",
    "        print(\" Iam from Child 1\")\n",
    "child = Child()\n",
    "child.method1()\n",
    "child.method2()\n",
    "child.method3()\n",
    "\n",
    "\n",
    "# In example if we have some common methods in different Parent class that we Inherted in a child class then which one will execute ???\n",
    "# for that issue we are follow MRO(Method Resolution Order)"
   ]
  },
  {
   "cell_type": "code",
   "execution_count": null,
   "metadata": {},
   "outputs": [],
   "source": [
    "# Multiplevel Inheritance:\n",
    "# from a parent classs to Child class and from that child class to another child class is called as multilevel Inheritance\n",
    "\n",
    "class GrandParent:\n",
    "    def method1(self):\n",
    "        print(\" Iam from a GrandParent Class\")\n",
    "class Parent(GrandParent):\n",
    "    def method2(self):\n",
    "        print(\" Iam from Parent Class \")\n",
    "class Child(Parent):\n",
    "    def method3(self):\n",
    "        print(\" I am from Child class\")\n",
    "\n",
    "child = Child()\n",
    "child.method1()\n",
    "child.method2()\n",
    "child.method3()"
   ]
  },
  {
   "cell_type": "code",
   "execution_count": null,
   "metadata": {},
   "outputs": [],
   "source": [
    "# Hierarchical Inheritance\n",
    "\n",
    "class Parent:\n",
    "    def method1(self):\n",
    "        print(\" I mav from a Parent\")\n",
    "class Child1(Parent):\n",
    "    def method2(self):\n",
    "        print(\" I am a Child1 Class \")\n",
    "class Child2(Parent):\n",
    "    def method3(self):\n",
    "        print(\" I am from Child2 class\")\n",
    "child1 = Child1()\n",
    "child2 = Child2()\n",
    "child.method1()\n",
    "child1.method2()"
   ]
  },
  {
   "cell_type": "code",
   "execution_count": null,
   "metadata": {},
   "outputs": [],
   "source": [
    "#  Hybrid Inheritance\n",
    "\n",
    "# Grand Parent ---- Parent --- Child ----- Parent2\n",
    "\n",
    "#  it is mainly combination on any two or more types of inheritNce like Single Inhertiacne and Multiple INheritacne and Multilevel INh  like that\n",
    "\n",
    "class GrandParent:\n",
    "    def method(self):\n",
    "        print(\" I am from  GrandParent class\")\n",
    "class Parent1(GrandParent):\n",
    "    def method1(self):\n",
    "        print(\" I ma from parent1\")\n",
    "class Parent2:\n",
    "    def method2(self):\n",
    "        print(\" I am from Parent2\")\n",
    "class Child(Parent1, Parent2):\n",
    "    def method3(self):\n",
    "        print(\" Iam from Child 1\")\n",
    "child = Child()\n",
    "child.method1()\n",
    "child.method2()\n",
    "child.method3()"
   ]
  },
  {
   "cell_type": "code",
   "execution_count": null,
   "metadata": {},
   "outputs": [],
   "source": [
    "# Removal fo duplication \n",
    "\n",
    "class UCommon:\n",
    "    def __init__(self,FirstName, LastName, Email, Id, Address, MobileNumber, DateofJoining):\n",
    "        self.FirstName = FirstName\n",
    "        self.LastName = LastName\n",
    "        self.Email = Email\n",
    "        self.Id = Id\n",
    "        self.Address = Address\n",
    "        self.MobileNumber = MobileNumber\n",
    "        self.DateofJoining = DateofJoining\n",
    "    def getFullName(self):\n",
    "        print(self.FirstName+ '' +self.LastName)\n",
    "    def ChangeAddress()"
   ]
  },
  {
   "cell_type": "code",
   "execution_count": 46,
   "metadata": {},
   "outputs": [
    {
     "name": "stdout",
     "output_type": "stream",
     "text": [
      "20\n",
      "30\n",
      "i am rishi\n"
     ]
    }
   ],
   "source": [
    "# method Overloading\n",
    "\n",
    "import multipledispatch\n",
    "\n",
    "class A:\n",
    "    @multipledispatch.dispatch(int,int,int)\n",
    "    def add(self,a,b,c):\n",
    "        return a+b+c\n",
    "    @multipledispatch.dispatch(int,int)\n",
    "    def add(self,a,b):\n",
    "        return a+b\n",
    "    @multipledispatch.dispatch(str,str)\n",
    "    def add(self,a,b):\n",
    "        return a+b\n",
    "obj = A()\n",
    "print(obj.add(10,10))\n",
    "print(obj.add(10,10,10))\n",
    "print(obj.add('i am',\" rishi\"))"
   ]
  },
  {
   "cell_type": "code",
   "execution_count": 47,
   "metadata": {},
   "outputs": [
    {
     "name": "stdout",
     "output_type": "stream",
     "text": [
      "20\n",
      "30\n",
      "i am rishi\n"
     ]
    }
   ],
   "source": [
    "class A:\n",
    "    def add(self,*args):\n",
    "        if args:\n",
    "            sum = type(args[0])()\n",
    "            for i in args:\n",
    "                sum = sum + i\n",
    "            return sum\n",
    "obj = A()\n",
    "print(obj.add(10,10))\n",
    "print(obj.add(10,10,10))\n",
    "print(obj.add('i am',\" rishi\"))\n"
   ]
  },
  {
   "cell_type": "code",
   "execution_count": null,
   "metadata": {},
   "outputs": [],
   "source": []
  }
 ],
 "metadata": {
  "kernelspec": {
   "display_name": "Python 3",
   "language": "python",
   "name": "python3"
  },
  "language_info": {
   "codemirror_mode": {
    "name": "ipython",
    "version": 3
   },
   "file_extension": ".py",
   "mimetype": "text/x-python",
   "name": "python",
   "nbconvert_exporter": "python",
   "pygments_lexer": "ipython3",
   "version": "3.13.1"
  }
 },
 "nbformat": 4,
 "nbformat_minor": 2
}
