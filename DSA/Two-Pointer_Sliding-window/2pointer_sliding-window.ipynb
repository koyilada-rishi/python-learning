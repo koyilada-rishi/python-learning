{
 "cells": [
  {
   "cell_type": "markdown",
   "metadata": {},
   "source": [
    "Given a strings, find the length of the longest substring without duplicate characters.\n",
    "Example 1:\n",
    "\n",
    "Input: s = \"abcabcbb\"\n",
    "Output: 3\n",
    "Explanation: The answer is \"abc\", with the length of 3.\n",
    "Example 2:\n",
    "\n",
    "Input: s = \"bbbbb\"\n",
    "Output: 1\n",
    "Explanation: The answer is \"b\", with the length of 1.\n",
    "Example 3:\n",
    "\n",
    "Input: s = \"pwwkew\"\n",
    "Output: 3\n",
    "Explanation: The answer is \"wke\", with the length of 3.\n",
    "Notice that the answer must be a substring, \"pwke\" is a subsequence and not a substring."
   ]
  },
  {
   "cell_type": "code",
   "execution_count": 12,
   "metadata": {},
   "outputs": [
    {
     "name": "stdout",
     "output_type": "stream",
     "text": [
      "97\n",
      "98\n",
      "99\n",
      "97\n",
      "98\n",
      "99\n",
      "98\n",
      "98\n",
      "{0: 97, 1: 98, 2: 99, 3: 97, 4: 98, 5: 99, 6: 98, 7: 98}\n"
     ]
    }
   ],
   "source": [
    "s = \"abcabcbb\"\n",
    "n=len(s)\n",
    "d = {}\n",
    "for i in range(n):\n",
    "    print(ord(s[i]))\n",
    "    if i not in d:\n",
    "        d[i] = ord(s[i])\n",
    "    else:\n",
    "        d[i] += 1\n",
    "# for k,v in enumerate(d):\n",
    "# l = []\n",
    "# for v in range(len(d)-1):\n",
    "#     if d[v] < d[v+1] :\n",
    "\n",
    "    \n",
    "print(d)"
   ]
  },
  {
   "cell_type": "code",
   "execution_count": 35,
   "metadata": {},
   "outputs": [
    {
     "name": "stdout",
     "output_type": "stream",
     "text": [
      "{'a': [0, 2], 'b': [1, 4, 6, 7], 'c': [3, 5]}\n"
     ]
    }
   ],
   "source": [
    "s = \"abcabcbb\"\n",
    "n=len(s)\n",
    "d = {}\n",
    "for i in range(n):\n",
    "    if s[i] not in d:\n",
    "        d[s[i]] = []\n",
    "    d[s[i]].append(i)  # Append the index\n",
    "print(d)"
   ]
  },
  {
   "cell_type": "code",
   "execution_count": 41,
   "metadata": {},
   "outputs": [
    {
     "ename": "KeyboardInterrupt",
     "evalue": "",
     "output_type": "error",
     "traceback": [
      "\u001b[0;31m---------------------------------------------------------------------------\u001b[0m",
      "\u001b[0;31mKeyboardInterrupt\u001b[0m                         Traceback (most recent call last)",
      "Cell \u001b[0;32mIn[41], line 6\u001b[0m\n\u001b[1;32m      4\u001b[0m d \u001b[38;5;241m=\u001b[39m {}\n\u001b[1;32m      5\u001b[0m i \u001b[38;5;241m=\u001b[39m\u001b[38;5;241m0\u001b[39m\n\u001b[0;32m----> 6\u001b[0m \u001b[38;5;28;01mwhile\u001b[39;00m i \u001b[38;5;241m<\u001b[39m n :\n\u001b[1;32m      7\u001b[0m \u001b[38;5;66;03m# for i in range(n):\u001b[39;00m\n\u001b[1;32m      8\u001b[0m     \u001b[38;5;28;01mif\u001b[39;00m s[i] \u001b[38;5;129;01mnot\u001b[39;00m \u001b[38;5;129;01min\u001b[39;00m d:\n\u001b[1;32m      9\u001b[0m         d[i] \u001b[38;5;241m=\u001b[39m[i]\n",
      "\u001b[0;31mKeyboardInterrupt\u001b[0m: "
     ]
    }
   ],
   "source": [
    "# s = \"abcabcbb\"\n",
    "s = \"abca\"\n",
    "n=len(s)\n",
    "d = {}\n",
    "i =0\n",
    "while i < n :\n",
    "# for i in range(n):\n",
    "    if s[i] not in d:\n",
    "        d[i] =[i]\n",
    "\n",
    "    else:\n",
    "        d[i].append(i)\n",
    "        i +=1\n",
    "print(d)\n",
    "    "
   ]
  }
 ],
 "metadata": {
  "kernelspec": {
   "display_name": "Python 3",
   "language": "python",
   "name": "python3"
  },
  "language_info": {
   "codemirror_mode": {
    "name": "ipython",
    "version": 3
   },
   "file_extension": ".py",
   "mimetype": "text/x-python",
   "name": "python",
   "nbconvert_exporter": "python",
   "pygments_lexer": "ipython3",
   "version": "3.13.1"
  }
 },
 "nbformat": 4,
 "nbformat_minor": 2
}
