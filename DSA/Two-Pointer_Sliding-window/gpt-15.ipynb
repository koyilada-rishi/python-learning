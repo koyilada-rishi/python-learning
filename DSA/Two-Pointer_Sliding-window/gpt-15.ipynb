{
 "cells": [
  {
   "cell_type": "markdown",
   "metadata": {},
   "source": [
    "# Stage One"
   ]
  },
  {
   "cell_type": "code",
   "execution_count": null,
   "metadata": {},
   "outputs": [],
   "source": [
    "print(\"1. **Count Frequency of Elements**\")\n",
    "#     - **Explanation:** Given an array, count how many times each element appears using a dictionary.\n",
    "#     - **Hint:** Iterate over the array and use `dict.get(key, 0)` to update counts.\n",
    "#     - **Example 1:**\n",
    "#         - Input: `[1, 2, 4, 2, 3, 1, 4]`\n",
    "#         - Output: `{1: 2, 2: 2, 3: 1, 4: 2}`\n",
    "#     - **Example 2:**\n",
    "#         - Input: `\"banana\"` (treating each character)\n",
    "#         - Output: `{'b': 1, 'a': 3, 'n': 2}`\n",
    "arr = [1, 2, 4, 2, 3, 1, 4]\n",
    "frq = {}\n",
    "for r in arr:\n",
    "    frq[r] = frq.get(r,0) + 1 \n",
    "    # if r not in frq:\n",
    "    #     frq[r] = 1\n",
    "    # else:\n",
    "    #     frq[r] += 1 \n",
    "print(frq)\n",
    "\n",
    "# notes Practice both ways for initializing frq dic and condition to check for it (with count[frq[r] = frq.get(r,0) + 1 ])\n"
   ]
  },
  {
   "cell_type": "code",
   "execution_count": null,
   "metadata": {},
   "outputs": [],
   "source": [
    "print(\"2. **Find First Non-Repeating Character**\")\n",
    "#     - **Explanation:** Identify the first character in a string that appears only once.\n",
    "#     - **Hint:** Use a hash map to count frequencies, then iterate over the string in order.\n",
    "#     - **Example 1:**\n",
    "#         - Input: `\"swiss\"`\n",
    "#         - Output: `'w'`\n",
    "#     - **Example 2:**\n",
    "#         - Input: `\"leetcode\"`\n",
    "#         - Output: `'l'`\n",
    "\n",
    "s = \"swiss\"\n",
    "\n",
    "def first_non_repeating_char(s):\n",
    "    frq = {}\n",
    "    for char in s:\n",
    "        frq[char] = frq.get(char,0) + 1\n",
    "        # if char not in frq:\n",
    "        #     frq[char] = 1\n",
    "        # else:\n",
    "        #     frq[char] += 1 \n",
    "    if 1 in frq.values():\n",
    "        return [keys for keys,values in frq.items() if values==1][0]\n",
    "    return \"None\"\n",
    "    \n",
    "\n",
    "print(first_non_repeating_char(s))\n",
    "\n",
    "\n",
    "#### test cases\n",
    "\n",
    "# Test Cases\n",
    "print(first_non_repeating_char(\"swiss\"))    # Output: 'w'\n",
    "print(first_non_repeating_char(\"leetcode\")) # Output: 'l'\n",
    "print(first_non_repeating_char(\"aabb\"))     # Output: None (No non-repeating character)"
   ]
  },
  {
   "cell_type": "code",
   "execution_count": null,
   "metadata": {},
   "outputs": [],
   "source": [
    "print(\"3. **Check If Two Strings Are Anagrams**\")\n",
    "#     - **Explanation:** Determine if two strings have the same characters in any order.\n",
    "#     - **Hint:** Compare frequency dictionaries for both strings (or sort both strings).\n",
    "#     - **Example 1:**\n",
    "#         - Input: `\"listen\"`, `\"silent\"`\n",
    "#         - Output: `True`\n",
    "#     - **Example 2:**\n",
    "#         - Input: `\"triangle\"`, `\"integral\"`\n",
    "#         - Output: `True`\n",
    "\n",
    "def is_anagram(s1,s2):\n",
    "    if len(s1) != len(s2):\n",
    "        return False\n",
    "    frq = {}\n",
    "    for char in s1:\n",
    "        # frq[s] = frq.get(s,0) - 1\n",
    "        if char not in frq:\n",
    "            frq[char] = 1\n",
    "        else:\n",
    "            frq[char] += 1\n",
    "            \n",
    "    for char in s2:\n",
    "        if char not in frq:\n",
    "            frq[char] = 1\n",
    "        else:\n",
    "            frq[char] -= 1\n",
    "            \n",
    "    return all(val == 0 for key,val in frq.items())   ### Practice this as much asd possible\n",
    "# ✅ Test Cases\n",
    "print(is_anagram(\"listen\", \"silent\"))  # Output: True\n",
    "print(is_anagram(\"triangle\", \"integral\"))  # Output: True\n",
    "print(is_anagram(\"apple\", \"pale\"))  # Output: False\n",
    "print(is_anagram(\"abcd\", \"abcde\"))  # Output: False\n"
   ]
  },
  {
   "cell_type": "code",
   "execution_count": 61,
   "metadata": {},
   "outputs": [
    {
     "name": "stdout",
     "output_type": "stream",
     "text": [
      "[1, 5]\n"
     ]
    }
   ],
   "source": [
    "# 4. **Find Missing Number in a Sequence**\n",
    "#     - **Explanation:** Given numbers from 1 to n+1 with one missing, find the missing number.\n",
    "#     - **Hint:** Use the sum formula 2(n+1)(n+2) minus the sum of the array.\n",
    "#         (n+1)(n+2)2\\frac{(n+1)(n+2)}{2}\n",
    "#     - **Example 1:**\n",
    "#         - Input: `[1, 2, 4, 5]`\n",
    "#         - Output: `3`\n",
    "#     - **Example 2:**\n",
    "#         - Input: `[2, 3, 4, 6, 7]` (missing 1 and 5; if only one missing is allowed, adjust the problem statement)\n",
    "arr = [2, 3, 4, 6, 7]\n",
    "n = len(arr)\n",
    "missint_list = []\n",
    "for i in range(1,(arr[n-1])+1):\n",
    "    if i not in arr:\n",
    "        missint_list.append(i)\n",
    "print(missint_list)\n",
    "# missing_number(arr)"
   ]
  },
  {
   "cell_type": "code",
   "execution_count": null,
   "metadata": {},
   "outputs": [
    {
     "name": "stdout",
     "output_type": "stream",
     "text": [
      "[1, 5]\n"
     ]
    }
   ],
   "source": [
    "def missing_nums(arr):\n",
    "    arr=set(arr)\n",
    "    n = len(arr)\n",
    "    full_list=set(range(1,n+1))  #### new concept\n",
    "    missing_nums_res = list(full_list - arr)  #### new concept\n",
    "    print(missing_nums_res)\n",
    "missing_nums([2, 3, 4, 6, 7])\n",
    "    "
   ]
  },
  {
   "cell_type": "code",
   "execution_count": 58,
   "metadata": {},
   "outputs": [
    {
     "name": "stdout",
     "output_type": "stream",
     "text": [
      "[1, 5]\n"
     ]
    }
   ],
   "source": [
    "arr = [2, 3, 4, 6, 7]\n",
    "n = len(arr) + 1  # Since one number is missing\n",
    "\n",
    "# Expected full set from 1 to n+1\n",
    "full_set = set(range(1, n + 1))\n",
    "arr_set = set(arr)\n",
    "\n",
    "# Find the missing number(s)\n",
    "missing_numbers = list(full_set - arr_set)\n",
    "print(missing_numbers)  # Output: [3]\n"
   ]
  },
  {
   "cell_type": "code",
   "execution_count": 62,
   "metadata": {},
   "outputs": [
    {
     "name": "stdout",
     "output_type": "stream",
     "text": [
      "-1\n"
     ]
    }
   ],
   "source": [
    "def find_missing(arr):\n",
    "    n = len(arr) + 1  # Because one number is missing\n",
    "    expected_sum = (n * (n + 1)) // 2  # Sum of first n natural numbers\n",
    "    actual_sum = sum(arr)  # Sum of given array elements\n",
    "    return expected_sum - actual_sum  # The missing number\n",
    "\n",
    "arr = [2, 3, 4, 6, 7]\n",
    "print(find_missing(arr))  # Output: 3\n"
   ]
  }
 ],
 "metadata": {
  "kernelspec": {
   "display_name": "Python 3",
   "language": "python",
   "name": "python3"
  },
  "language_info": {
   "codemirror_mode": {
    "name": "ipython",
    "version": 3
   },
   "file_extension": ".py",
   "mimetype": "text/x-python",
   "name": "python",
   "nbconvert_exporter": "python",
   "pygments_lexer": "ipython3",
   "version": "3.13.1"
  }
 },
 "nbformat": 4,
 "nbformat_minor": 2
}
