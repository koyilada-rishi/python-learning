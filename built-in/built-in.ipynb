{
 "cells": [
  {
   "cell_type": "code",
   "execution_count": null,
   "metadata": {},
   "outputs": [],
   "source": [
    "l= [1,2,3,-4,-5,-6,-7,-8]\n",
    "lm=[abs(i) for i in l]\n",
    "print(lm)\n",
    "listsame=[1,1,1]\n",
    "listdiff=[1,2,3]\n",
    "all(x==1 for x in listsame)\n",
    "all(x ==1 for x in listdiff)\n",
    "any(x==1 for x in listdiff)\n",
    "any(x==3 for x in listsame)"
   ]
  }
 ],
 "metadata": {
  "kernelspec": {
   "display_name": "Python 3",
   "language": "python",
   "name": "python3"
  },
  "language_info": {
   "codemirror_mode": {
    "name": "ipython",
    "version": 3
   },
   "file_extension": ".py",
   "mimetype": "text/x-python",
   "name": "python",
   "nbconvert_exporter": "python",
   "pygments_lexer": "ipython3",
   "version": "3.11.9"
  }
 },
 "nbformat": 4,
 "nbformat_minor": 2
}
