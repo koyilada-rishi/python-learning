{
 "cells": [
  {
   "cell_type": "markdown",
   "metadata": {},
   "source": [
    "Source:- YT\n",
    " https://www.youtube.com/playlist?list=PL4eU-_ytIUt_s4S9aZ6rLoP7aAUkj66gx"
   ]
  },
  {
   "cell_type": "code",
   "execution_count": null,
   "metadata": {},
   "outputs": [],
   "source": [
    "l= [1,2,3,-4,-5,-6,-7,-8]\n",
    "lm=[abs(i) for i in l]\n",
    "print(lm)"
   ]
  },
  {
   "cell_type": "markdown",
   "metadata": {},
   "source": [
    "Simple build-In functions explaination and execution for **all; any;**"
   ]
  },
  {
   "cell_type": "code",
   "execution_count": null,
   "metadata": {},
   "outputs": [],
   "source": [
    "listsame=[1,1,1]\n",
    "listdiff=[1,2,3]"
   ]
  },
  {
   "cell_type": "code",
   "execution_count": null,
   "metadata": {},
   "outputs": [],
   "source": [
    "\n",
    "all(x==1 for x in listsame)"
   ]
  },
  {
   "cell_type": "code",
   "execution_count": null,
   "metadata": {},
   "outputs": [],
   "source": [
    "all(x ==1 for x in listdiff)"
   ]
  },
  {
   "cell_type": "code",
   "execution_count": null,
   "metadata": {},
   "outputs": [],
   "source": [
    "any(x==1 for x in listdiff)"
   ]
  },
  {
   "cell_type": "code",
   "execution_count": null,
   "metadata": {},
   "outputs": [],
   "source": [
    "any(x==3 for x in listsame)"
   ]
  },
  {
   "cell_type": "markdown",
   "metadata": {},
   "source": [
    "for binary and using format we can make binary too as below"
   ]
  },
  {
   "cell_type": "code",
   "execution_count": null,
   "metadata": {},
   "outputs": [],
   "source": [
    "bin(1)"
   ]
  },
  {
   "cell_type": "code",
   "execution_count": null,
   "metadata": {},
   "outputs": [],
   "source": [
    "format(1,'#b')\n",
    "# this will result in same as bin(1)\n",
    "format(1,'b')\n",
    "#this will result in exact binary as \"1\""
   ]
  },
  {
   "cell_type": "markdown",
   "metadata": {},
   "source": [
    "1.  https://stackoverflow.com/questions/39983695/what-is-truthy-and-falsy-how-is-it-different-from-true-and-false\n",
    "\n",
    "2.  https://docs.python.org/3/library/stdtypes.html\n",
    "\n",
    "3. https://www.digitalocean.com/community/tutorials/understanding-boolean-logic-in-python-3\n",
    "\n",
    "\n",
    "\n",
    "We use \"truthy\" and \"falsy\" to differentiate from the bool values True and False. A \"truthy\" value will satisfy the check performed by if or while statements. As explained in the documentation, all values are considered \"truthy\" except for the following, which are \"falsy\":\n",
    "\n",
    "None\n",
    "False\n",
    "Numbers that are numerically equal to zero, including:\n",
    "0\n",
    "0.0\n",
    "0j\n",
    "decimal.Decimal(0)\n",
    "fraction.Fraction(0, 1)\n",
    "Empty sequences and collections, including:\n",
    "[] - an empty list\n",
    "{} - an empty dict\n",
    "() - an empty tuple\n",
    "set() - an empty set\n",
    "'' - an empty str\n",
    "b'' - an empty bytes\n",
    "bytearray(b'') - an empty bytearray\n",
    "memoryview(b'') - an empty memoryview\n",
    "an empty range, like range(0)\n",
    "objects for which\n",
    "obj.__bool__() returns False\n",
    "obj.__len__() returns 0, given that obj.__bool__ is undefined\n"
   ]
  },
  {
   "cell_type": "code",
   "execution_count": null,
   "metadata": {},
   "outputs": [],
   "source": [
    "bool([])\n",
    "bool(1==2)\n",
    "bool(1==1)"
   ]
  },
  {
   "cell_type": "code",
   "execution_count": null,
   "metadata": {},
   "outputs": [],
   "source": [
    "myage = 31\n",
    "brotherage= 29\n",
    "bool(myage > brotherage)"
   ]
  },
  {
   "cell_type": "markdown",
   "metadata": {},
   "source": [
    "BrreakPoint\n",
    "\n",
    "1. https://peps.python.org/pep-0553/\n",
    "2. https://www.digitalocean.com/community/tutorials/python-breakpoint"
   ]
  },
  {
   "cell_type": "code",
   "execution_count": null,
   "metadata": {},
   "outputs": [],
   "source": [
    "for i in range(10):\n",
    "    print(\"i=\",i)\n",
    "    \n",
    "    if i ==5:\n",
    "        #import pdb; pdb.set_trace()\n",
    "        breakpoint()"
   ]
  },
  {
   "cell_type": "code",
   "execution_count": null,
   "metadata": {},
   "outputs": [],
   "source": [
    "x = 10\n",
    "y = 'Hi'\n",
    "z = 'Hello'\n",
    "print(y)\n",
    "breakpoint()\n",
    "print(z)\n",
    "\n",
    "\n",
    "for i in range(10):\n",
    "    print(\"i=\",i)\n",
    "    if i ==5:\n",
    "        #import pdb; pdb.set_trace()\n",
    "        breakpoint()\n",
    "        \n",
    "# press c to continue \n",
    "\n",
    "# you can give any command it will work with in the breakpoint"
   ]
  },
  {
   "cell_type": "markdown",
   "metadata": {},
   "source": [
    "rishi@Rishis-MacBook-Air z-SRE-Python % /usr/bin/python3 /Users/rishi/workspace-auto/Python-\n",
    "DSA-G4G/z-SRE-Python/python-learning/built-in/test.py\n",
    "Hi\n",
    "> /Users/rishi/workspace-auto/Python-DSA-G4G/z-SRE-Python/python-learning/built-in/test.py(18)<module>()\n",
    "-> print(z)\n",
    "(Pdb) print(x)\n",
    "10\n",
    "(Pdb) print(y)\n",
    "Hi\n",
    "(Pdb) \n",
    "Hi\n",
    "(Pdb) c\n",
    "Hello\n",
    "rishi@Rishis-MacBook-Air z-SRE-Python % /usr/bin/python3 /Users/rishi/workspace-auto/Python-\n",
    "DSA-G4G/z-SRE-Python/python-learning/built-in/test.py\n",
    "Hi\n",
    "> /Users/rishi/workspace-auto/Python-DSA-G4G/z-SRE-Python/python-learning/built-in/test.py(18)<module>()\n",
    "-> print(z)\n",
    "(Pdb) c\n",
    "Hello\n",
    "i= 0\n",
    "i= 1\n",
    "i= 2\n",
    "i= 3\n",
    "i= 4\n",
    "i= 5\n",
    "> /Users/rishi/workspace-auto/Python-DSA-G4G/z-SRE-Python/python-learning/built-in/test.py(21)<module>()\n",
    "-> for i in range(10):\n",
    "(Pdb) c\n",
    "i= 6\n",
    "i= 7\n",
    "i= 8\n",
    "i= 9\n",
    "rishi@Rishis-MacBook-Air z-SRE-Python % "
   ]
  },
  {
   "cell_type": "markdown",
   "metadata": {},
   "source": [
    " chr() is used to get character and special characters with the numbers \n",
    "1. https://www.ssec.wisc.edu/~tomw/java/unicode.html#x0600"
   ]
  },
  {
   "cell_type": "code",
   "execution_count": null,
   "metadata": {},
   "outputs": [],
   "source": [
    "chr(97)\n",
    "# result in alphabate 'a'"
   ]
  },
  {
   "cell_type": "code",
   "execution_count": null,
   "metadata": {},
   "outputs": [],
   "source": [
    "result = ''.join(chr(code) for code in range(97,102))\n",
    "result\n",
    "#result in get 'abcde'"
   ]
  }
 ],
 "metadata": {
  "kernelspec": {
   "display_name": "Python 3",
   "language": "python",
   "name": "python3"
  },
  "language_info": {
   "codemirror_mode": {
    "name": "ipython",
    "version": 3
   },
   "file_extension": ".py",
   "mimetype": "text/x-python",
   "name": "python",
   "nbconvert_exporter": "python",
   "pygments_lexer": "ipython3",
   "version": "3.11.9"
  }
 },
 "nbformat": 4,
 "nbformat_minor": 2
}
